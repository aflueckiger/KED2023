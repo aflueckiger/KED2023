{
 "cells": [
  {
   "cell_type": "code",
   "execution_count": 1,
   "metadata": {},
   "outputs": [
    {
     "data": {
      "text/html": [
       "<div>\n",
       "<style scoped>\n",
       "    .dataframe tbody tr th:only-of-type {\n",
       "        vertical-align: middle;\n",
       "    }\n",
       "\n",
       "    .dataframe tbody tr th {\n",
       "        vertical-align: top;\n",
       "    }\n",
       "\n",
       "    .dataframe thead th {\n",
       "        text-align: right;\n",
       "    }\n",
       "</style>\n",
       "<table border=\"1\" class=\"dataframe\">\n",
       "  <thead>\n",
       "    <tr style=\"text-align: right;\">\n",
       "      <th></th>\n",
       "      <th>id</th>\n",
       "      <th>pubtime</th>\n",
       "      <th>medium_code</th>\n",
       "      <th>medium_name</th>\n",
       "      <th>rubric</th>\n",
       "      <th>regional</th>\n",
       "      <th>doctype</th>\n",
       "      <th>doctype_description</th>\n",
       "      <th>language</th>\n",
       "      <th>char_count</th>\n",
       "      <th>dateline</th>\n",
       "      <th>head</th>\n",
       "      <th>subhead</th>\n",
       "      <th>content_id</th>\n",
       "      <th>content</th>\n",
       "    </tr>\n",
       "  </thead>\n",
       "  <tbody>\n",
       "    <tr>\n",
       "      <th>0</th>\n",
       "      <td>45962016</td>\n",
       "      <td>2022-04-05 00:00:00+02</td>\n",
       "      <td>NZZ</td>\n",
       "      <td>Neue Zürcher Zeitung</td>\n",
       "      <td>Wirtschaft</td>\n",
       "      <td>NaN</td>\n",
       "      <td>PND</td>\n",
       "      <td>National daily newspaper</td>\n",
       "      <td>de</td>\n",
       "      <td>3243</td>\n",
       "      <td>Schwarz und Wirz</td>\n",
       "      <td>Die Kernaufgabe von Firmen</td>\n",
       "      <td>NaN</td>\n",
       "      <td>071baeb5-732b-8150-c99f-fe5e3af28e85</td>\n",
       "      <td>&lt;tx&gt;&lt;au&gt;Gerhard Schwarz&lt;/au&gt;&lt;p&gt;Das moralische ...</td>\n",
       "    </tr>\n",
       "    <tr>\n",
       "      <th>1</th>\n",
       "      <td>47075193</td>\n",
       "      <td>2022-07-26 00:00:00+02</td>\n",
       "      <td>NZZ</td>\n",
       "      <td>Neue Zürcher Zeitung</td>\n",
       "      <td>Feuilleton</td>\n",
       "      <td>NaN</td>\n",
       "      <td>PND</td>\n",
       "      <td>National daily newspaper</td>\n",
       "      <td>de</td>\n",
       "      <td>8555</td>\n",
       "      <td>NaN</td>\n",
       "      <td>Unsere Universitäten brauchen eine Revolution</td>\n",
       "      <td>Das Bildungswesen verliert sich im Aktivismus....</td>\n",
       "      <td>0e08dac2-f155-413e-a1bf-a40ac3cd4eac</td>\n",
       "      <td>&lt;tx&gt;&lt;au&gt;Ayaan Hirsi Ali&lt;/au&gt;&lt;p&gt;Was ist der Zwe...</td>\n",
       "    </tr>\n",
       "    <tr>\n",
       "      <th>2</th>\n",
       "      <td>46595670</td>\n",
       "      <td>2022-06-07 00:00:00+02</td>\n",
       "      <td>NZZ</td>\n",
       "      <td>Neue Zürcher Zeitung</td>\n",
       "      <td>International</td>\n",
       "      <td>NaN</td>\n",
       "      <td>PND</td>\n",
       "      <td>National daily newspaper</td>\n",
       "      <td>de</td>\n",
       "      <td>7032</td>\n",
       "      <td>NaN</td>\n",
       "      <td>Frankreichs Bildungsminister spaltet das Land</td>\n",
       "      <td>Die Rechte reagiert auf die Ernennung des Hist...</td>\n",
       "      <td>1bfd9742-ab9b-e1ba-8760-f85be44b6963</td>\n",
       "      <td>&lt;tx&gt;&lt;au&gt;Judith Kormann&lt;/au&gt;&lt;p&gt;Pap Ndiaye hat n...</td>\n",
       "    </tr>\n",
       "  </tbody>\n",
       "</table>\n",
       "</div>"
      ],
      "text/plain": [
       "         id                 pubtime medium_code           medium_name  \\\n",
       "0  45962016  2022-04-05 00:00:00+02         NZZ  Neue Zürcher Zeitung   \n",
       "1  47075193  2022-07-26 00:00:00+02         NZZ  Neue Zürcher Zeitung   \n",
       "2  46595670  2022-06-07 00:00:00+02         NZZ  Neue Zürcher Zeitung   \n",
       "\n",
       "          rubric  regional doctype       doctype_description language  \\\n",
       "0     Wirtschaft       NaN     PND  National daily newspaper       de   \n",
       "1     Feuilleton       NaN     PND  National daily newspaper       de   \n",
       "2  International       NaN     PND  National daily newspaper       de   \n",
       "\n",
       "   char_count          dateline  \\\n",
       "0        3243  Schwarz und Wirz   \n",
       "1        8555               NaN   \n",
       "2        7032               NaN   \n",
       "\n",
       "                                            head  \\\n",
       "0                     Die Kernaufgabe von Firmen   \n",
       "1  Unsere Universitäten brauchen eine Revolution   \n",
       "2  Frankreichs Bildungsminister spaltet das Land   \n",
       "\n",
       "                                             subhead  \\\n",
       "0                                                NaN   \n",
       "1  Das Bildungswesen verliert sich im Aktivismus....   \n",
       "2  Die Rechte reagiert auf die Ernennung des Hist...   \n",
       "\n",
       "                             content_id  \\\n",
       "0  071baeb5-732b-8150-c99f-fe5e3af28e85   \n",
       "1  0e08dac2-f155-413e-a1bf-a40ac3cd4eac   \n",
       "2  1bfd9742-ab9b-e1ba-8760-f85be44b6963   \n",
       "\n",
       "                                             content  \n",
       "0  <tx><au>Gerhard Schwarz</au><p>Das moralische ...  \n",
       "1  <tx><au>Ayaan Hirsi Ali</au><p>Was ist der Zwe...  \n",
       "2  <tx><au>Judith Kormann</au><p>Pap Ndiaye hat n...  "
      ]
     },
     "execution_count": 1,
     "metadata": {},
     "output_type": "execute_result"
    }
   ],
   "source": [
    "import pandas as pd\n",
    "\n",
    "fname = \"nzz_wokeness.tsv\"\n",
    "df = pd.read_csv(fname, sep='\\t')\n",
    "\n",
    "df.head(3)"
   ]
  },
  {
   "attachments": {},
   "cell_type": "markdown",
   "metadata": {},
   "source": [
    "NaN = missing data\n",
    "\n",
    "Index ()\n",
    "\n",
    "Rows x Columns"
   ]
  },
  {
   "cell_type": "code",
   "execution_count": 2,
   "metadata": {},
   "outputs": [
    {
     "data": {
      "text/html": [
       "<div>\n",
       "<style scoped>\n",
       "    .dataframe tbody tr th:only-of-type {\n",
       "        vertical-align: middle;\n",
       "    }\n",
       "\n",
       "    .dataframe tbody tr th {\n",
       "        vertical-align: top;\n",
       "    }\n",
       "\n",
       "    .dataframe thead th {\n",
       "        text-align: right;\n",
       "    }\n",
       "</style>\n",
       "<table border=\"1\" class=\"dataframe\">\n",
       "  <thead>\n",
       "    <tr style=\"text-align: right;\">\n",
       "      <th></th>\n",
       "      <th>id</th>\n",
       "      <th>regional</th>\n",
       "      <th>char_count</th>\n",
       "    </tr>\n",
       "  </thead>\n",
       "  <tbody>\n",
       "    <tr>\n",
       "      <th>count</th>\n",
       "      <td>5.900000e+01</td>\n",
       "      <td>0.0</td>\n",
       "      <td>59.000000</td>\n",
       "    </tr>\n",
       "    <tr>\n",
       "      <th>mean</th>\n",
       "      <td>4.684866e+07</td>\n",
       "      <td>NaN</td>\n",
       "      <td>7180.372881</td>\n",
       "    </tr>\n",
       "    <tr>\n",
       "      <th>std</th>\n",
       "      <td>9.495620e+05</td>\n",
       "      <td>NaN</td>\n",
       "      <td>3199.176472</td>\n",
       "    </tr>\n",
       "    <tr>\n",
       "      <th>min</th>\n",
       "      <td>4.502974e+07</td>\n",
       "      <td>NaN</td>\n",
       "      <td>1349.000000</td>\n",
       "    </tr>\n",
       "    <tr>\n",
       "      <th>25%</th>\n",
       "      <td>4.610201e+07</td>\n",
       "      <td>NaN</td>\n",
       "      <td>5368.000000</td>\n",
       "    </tr>\n",
       "    <tr>\n",
       "      <th>50%</th>\n",
       "      <td>4.682864e+07</td>\n",
       "      <td>NaN</td>\n",
       "      <td>6861.000000</td>\n",
       "    </tr>\n",
       "    <tr>\n",
       "      <th>75%</th>\n",
       "      <td>4.761223e+07</td>\n",
       "      <td>NaN</td>\n",
       "      <td>8879.000000</td>\n",
       "    </tr>\n",
       "    <tr>\n",
       "      <th>max</th>\n",
       "      <td>4.859237e+07</td>\n",
       "      <td>NaN</td>\n",
       "      <td>20971.000000</td>\n",
       "    </tr>\n",
       "  </tbody>\n",
       "</table>\n",
       "</div>"
      ],
      "text/plain": [
       "                 id  regional    char_count\n",
       "count  5.900000e+01       0.0     59.000000\n",
       "mean   4.684866e+07       NaN   7180.372881\n",
       "std    9.495620e+05       NaN   3199.176472\n",
       "min    4.502974e+07       NaN   1349.000000\n",
       "25%    4.610201e+07       NaN   5368.000000\n",
       "50%    4.682864e+07       NaN   6861.000000\n",
       "75%    4.761223e+07       NaN   8879.000000\n",
       "max    4.859237e+07       NaN  20971.000000"
      ]
     },
     "execution_count": 2,
     "metadata": {},
     "output_type": "execute_result"
    }
   ],
   "source": [
    "df.describe()"
   ]
  },
  {
   "cell_type": "code",
   "execution_count": 3,
   "metadata": {},
   "outputs": [
    {
     "data": {
      "text/plain": [
       "Feuilleton             22\n",
       "International          10\n",
       "Meinung und Debatte     7\n",
       "Schweiz                 5\n",
       "Wirtschaft              4\n",
       "Front                   4\n",
       "Zürich und Region       2\n",
       "Medien                  2\n",
       "Wochenende              2\n",
       "Firmen & Finanzen       1\n",
       "Name: rubric, dtype: int64"
      ]
     },
     "execution_count": 3,
     "metadata": {},
     "output_type": "execute_result"
    }
   ],
   "source": [
    "df['rubric'].value_counts()"
   ]
  },
  {
   "cell_type": "code",
   "execution_count": 6,
   "metadata": {},
   "outputs": [
    {
     "data": {
      "text/plain": [
       "<AxesSubplot: title={'center': 'Number of articles per category'}>"
      ]
     },
     "execution_count": 6,
     "metadata": {},
     "output_type": "execute_result"
    },
    {
     "data": {
      "image/png": "[encoded data removed]",
      "text/plain": [
       "<Figure size 640x480 with 1 Axes>"
      ]
     },
     "metadata": {},
     "output_type": "display_data"
    }
   ],
   "source": [
    "df['rubric'].value_counts()[:10].plot(kind='bar', title='Number of articles per category')"
   ]
  },
  {
   "cell_type": "code",
   "execution_count": 8,
   "metadata": {},
   "outputs": [
    {
     "data": {
      "text/plain": [
       "<AxesSubplot: title={'center': 'Number of articles per category'}>"
      ]
     },
     "execution_count": 8,
     "metadata": {},
     "output_type": "execute_result"
    },
    {
     "data": {
      "image/png": "[encoded data removed]",
      "text/plain": [
       "<Figure size 640x480 with 1 Axes>"
      ]
     },
     "metadata": {},
     "output_type": "display_data"
    }
   ],
   "source": [
    "rel_frq = df['rubric'].value_counts() / len(df['rubric'])\n",
    "rel_frq[:10].plot(kind='bar', title='Number of articles per category')"
   ]
  },
  {
   "cell_type": "code",
   "execution_count": 5,
   "metadata": {},
   "outputs": [
    {
     "name": "stdout",
     "output_type": "stream",
     "text": [
      "Das moralische Wohlverhalten von Unternehmen ist für die Linke – und viele Junge – ein politischer Dauerbrenner. Nun ist das Thema im Kontext der Sanktionen gegen Russland wieder hochgekocht. Schon zuvor standen die Unternehmen in Sachen Diversity und Woke unter erheblichem Druck, dem sie zu oft nachgeben.\n",
      "In einer privaten Gesprächsrunde rechtfertigten unlängst zwei Wirtschaftsführer unisono das nachgiebige Verhalten damit, dass der Druck der Belegschaften so gross sei, dass die Unternehmensführungen gar nicht anders könnten, als im modischen Mainstream mitzuschwimmen. Ich meine, dass man mit dieser Art von moralischen Anforderungen den Auftrag von Unternehmen verkennt und zugleich den Minderheiten zu viel Gewicht gibt.\n",
      "Zunächst: Es sind immer Menschen, nie Organisationen, die sich moralisch oder unmoralisch verhalten. Die Geschäftsleitung kann etwas anordnen, was die Belegschaft dann umsetzt. Das Einhalten von Vorgaben oder Gesetzen macht die Mitarbeiter aber nicht moralisch, sondern nur gehorsam oder gesetzestreu. Die Aufgabe von Firmen ist es, mit Produkten und Diensten, für die eine Nachfrage besteht, den Kunden zu dienen sowie Gewinne zu machen, die das Gedeihen der Firma sichern und die Investoren bei der Stange halten – natürlich im Rahmen der Gesetze und der Sittlichkeit.\n",
      "Gelingt das, schaffen sie Arbeitsplätze, auch bei den Lieferanten, generieren Einkommen und leisten mit Steuerzahlungen einen Beitrag an das Gemeinwesen. Das ist, um ein Modewort zu verwenden, Purpose genug. Die generelle «Verbesserung der Welt», wie sie am WEF in Davos jeweils vollmundig verkündet wird, obliegt dagegen nicht den Unternehmen, sondern den Bürgerinnen und Bürgern, die in Demokratien im politischen Prozess Mehrheiten gewinnen müssen.\n",
      "Dazu kommt, dass sich die Moral selbst in einem schrecklichen Krieg wie dem in der Ukraine einfachen Antworten entzieht. Das wichtige Anliegen, dank Sanktionen den Krieg zu beenden (wobei man nicht weiss, ob es gelingt), steht in Konkurrenz mit der Verantwortung gegenüber den Mitarbeitern in Russland, den Kunden und der gesamten Firma. Vielleicht ist der Mittelweg, für den sich Nestlé entschieden hat (die Produktion nur weniger lebenswichtiger Produkte), richtig. Vielleicht ist er aber ein fauler Kompromiss, schlechter als ein Rückzug oder das Weiterbetreiben der Produktionsstätten in Russland.\n",
      "Urteilen können wir wohl erst in einigen Jahren. Bis dahin sollte man davon ausgehen, dass die Unternehmensführungen ihre Entscheide nach bestem Wissen und Gewissen fällen. Die Empörung über Unternehmen, die angeblich zu wenig divers, woke oder – nun eben – Russland-kritisch sind, wird zu oft nicht von Argumenten, sondern von grosser Lautstärke und wenig reflektierten Emotionen befeuert.\n",
      "Sosehr es selbstverständlich werden muss, die Gefühle von Minderheiten zu respektieren, so sehr erwartet man von Unternehmen, dass sie in politischen und gesellschaftlichen Fragen nicht zu sehr nach der Pfeife der pauschal urteilenden Lauten und Empfindlichen tanzen, sondern sich auf ihre Kernaufgabe besinnen.\n",
      "Gerhard Schwarz ist Präsident der Progress Foundation.\n"
     ]
    }
   ],
   "source": [
    "# Clean the text\n",
    "\n",
    "html_doc = df[\"content\"][0]\n",
    "\n",
    "from bs4 import BeautifulSoup\n",
    "soup = BeautifulSoup(html_doc)\n",
    "soup.au.extract()\n",
    "text = soup.get_text(separator=\"\\n\", strip=True)\n",
    "print(text)"
   ]
  },
  {
   "cell_type": "code",
   "execution_count": null,
   "metadata": {},
   "outputs": [],
   "source": [
    "# Filter missing values\n",
    "slave_voyages_df[slave_voyages_df['percent_women'].notna()]"
   ]
  },
  {
   "cell_type": "code",
   "execution_count": null,
   "metadata": {},
   "outputs": [],
   "source": [
    "# Recode variables\n",
    "\n",
    "adult_income.replace(\n",
    "    {\n",
    "        \"education\": {\"HS-grad\": \"High school\", \"Some-college\": \"College\"},\n",
    "        \"income\": {\"<=50K\": 0, \">50K\": 1},\n",
    "    },\n",
    "    inplace=True,\n",
    ")"
   ]
  },
  {
   "cell_type": "code",
   "execution_count": null,
   "metadata": {},
   "outputs": [],
   "source": [
    "user_df[user_df['sign_up_date'].str.contains('2022')]\n",
    "pandas.Series.str.count"
   ]
  },
  {
   "cell_type": "code",
   "execution_count": null,
   "metadata": {},
   "outputs": [],
   "source": [
    "# Group by"
   ]
  },
  {
   "cell_type": "code",
   "execution_count": null,
   "metadata": {},
   "outputs": [],
   "source": [
    "# Merge multiple datasets"
   ]
  },
  {
   "cell_type": "code",
   "execution_count": null,
   "metadata": {},
   "outputs": [],
   "source": [
    "# Save dataset as CSV file without an index\n",
    "df.to_csv(\"corrected.csv\", index=False)"
   ]
  }
 ],
 "metadata": {
  "kernelspec": {
   "display_name": "ked2023",
   "language": "python",
   "name": "ked2023"
  },
  "language_info": {
   "codemirror_mode": {
    "name": "ipython",
    "version": 3
   },
   "file_extension": ".py",
   "mimetype": "text/x-python",
   "name": "python",
   "nbconvert_exporter": "python",
   "pygments_lexer": "ipython3",
   "version": "3.10.9 (main, Dec 19 2022, 17:35:49) [GCC 12.2.0]"
  },
  "orig_nbformat": 4,
  "vscode": {
   "interpreter": {
    "hash": "e7370f93d1d0cde622a1f8e1c04877d8463912d04d973331ad4851f04de6915a"
   }
  }
 },
 "nbformat": 4,
 "nbformat_minor": 2
}
